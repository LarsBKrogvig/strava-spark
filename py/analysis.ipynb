{
 "cells": [
  {
   "cell_type": "markdown",
   "metadata": {},
   "source": [
    "# Processing Notebook\n",
    "\n",
    "\n",
    "## Input parameters\n"
   ]
  },
  {
   "cell_type": "markdown",
   "metadata": {},
   "source": [
    "# Output"
   ]
  },
  {
   "cell_type": "code",
   "execution_count": null,
   "metadata": {
    "collapsed": false
   },
   "outputs": [],
   "source": [
    "sp = dff.filter('activity_type=\"Ride\"').select(round(dff['speed_kmh']).alias('speed_int')).groupBy('speed_int').count().filter('speed_int<80').toPandas()\n",
    "plt.bar(sp['speed_int'], sp['count'])"
   ]
  },
  {
   "cell_type": "code",
   "execution_count": null,
   "metadata": {
    "collapsed": false
   },
   "outputs": [],
   "source": [
    "dfa = dff.groupBy('block_id').agg(\n",
    "    min(dff['time']),\n",
    "    ((max(dff['time_seconds']) - min(dff['time_seconds']))/60).alias('block_minutes'),\n",
    "    max(dff['dist_cum_km']).alias('block_dist')\n",
    ")\n",
    "\n",
    "dfa = dfa.withColumn(\n",
    "    'avg_speed',\n",
    "    dfa['block_dist'] / (dfa['block_minutes'] / 60)\n",
    ")\n",
    "\n",
    "pdf = dfa.toPandas()\n",
    "\n",
    "pdf"
   ]
  },
  {
   "cell_type": "code",
   "execution_count": null,
   "metadata": {
    "collapsed": false
   },
   "outputs": [],
   "source": [
    "dff.filter('block_id=\"akrogvig_ride_1\"').select([\n",
    "        'athlete',\n",
    "        'activity_type',\n",
    "        'time',\n",
    "        'dist_diff',\n",
    "        'dist_cum_km',\n",
    "        'speed_kmh'\n",
    "    ]).orderBy('time_seconds', ascending=False).show(1000)"
   ]
  },
  {
   "cell_type": "code",
   "execution_count": null,
   "metadata": {
    "collapsed": false
   },
   "outputs": [],
   "source": [
    "dff.filter('block_id=\"akrogvig_ride_1\"').select([\n",
    "        ''\n",
    "        'speed_kmh'\n",
    "    ]).orderBy('time_seconds', ascending=True).toPandas().plot(figsize=(15,5))"
   ]
  },
  {
   "cell_type": "code",
   "execution_count": null,
   "metadata": {
    "collapsed": true
   },
   "outputs": [],
   "source": []
  }
 ],
 "metadata": {
  "kernelspec": {
   "display_name": "Python 2",
   "language": "python",
   "name": "python2"
  },
  "language_info": {
   "codemirror_mode": {
    "name": "ipython",
    "version": 2
   },
   "file_extension": ".py",
   "mimetype": "text/x-python",
   "name": "python",
   "nbconvert_exporter": "python",
   "pygments_lexer": "ipython2",
   "version": "2.7.9"
  }
 },
 "nbformat": 4,
 "nbformat_minor": 0
}
