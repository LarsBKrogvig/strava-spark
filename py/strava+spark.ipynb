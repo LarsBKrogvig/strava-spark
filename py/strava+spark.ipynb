{
 "cells": [
  {
   "cell_type": "markdown",
   "metadata": {},
   "source": [
    "# Set up"
   ]
  },
  {
   "cell_type": "code",
   "execution_count": null,
   "metadata": {
    "collapsed": false
   },
   "outputs": [],
   "source": [
    "import pandas as pd\n",
    "from pyspark.sql import Window\n",
    "from pyspark.sql.functions import coalesce, concat, lag, lit, lower, sum, unix_timestamp, max, min\n",
    "\n",
    "from classes import StravaLoader\n",
    "\n",
    "%matplotlib inline\n",
    "from matplotlib import pyplot as plt\n",
    "from IPython.core.pylabtools import figsize"
   ]
  },
  {
   "cell_type": "markdown",
   "metadata": {},
   "source": [
    "# Load data"
   ]
  },
  {
   "cell_type": "code",
   "execution_count": null,
   "metadata": {
    "collapsed": false
   },
   "outputs": [],
   "source": [
    "# Initialize Strava activity loader\n",
    "sl = StravaLoader('local', 'strava-activities', sc=sc, hiveContext=sqlContext)\n",
    "\n",
    "# Load the dataset\n",
    "df = sl.get_dataset()"
   ]
  },
  {
   "cell_type": "markdown",
   "metadata": {},
   "source": [
    "# Analysis\n",
    "### Parameters"
   ]
  },
  {
   "cell_type": "code",
   "execution_count": null,
   "metadata": {
    "collapsed": false
   },
   "outputs": [],
   "source": [
    "stage_gap_min = 10"
   ]
  },
  {
   "cell_type": "markdown",
   "metadata": {},
   "source": [
    "## Calculate additional columns"
   ]
  },
  {
   "cell_type": "code",
   "execution_count": null,
   "metadata": {
    "collapsed": false
   },
   "outputs": [],
   "source": [
    "# Partitioning on <athlete> and <activity_type>\n",
    "window = Window.partitionBy('athlete', 'activity_type').orderBy('unix_time')\n",
    "\n",
    "# Timestamp in seconds\n",
    "df = df.withColumn( \n",
    "    'unix_time', \n",
    "    unix_timestamp(df['time'], \"yyyy-MM-dd'T'HH:mm:ss'Z'\")\n",
    ") \n",
    "\n",
    "# Time difference in seconds between tracking point and previous tracking point\n",
    "df = df.withColumn(\n",
    "    'unix_time_diff',\n",
    "    df['unix_time'] - lag('unix_time', count=1).over(window)\n",
    ")\n",
    "\n",
    "# Indicator (0,1) of whether time difference is greater than threshold (new activity block)\n",
    "df = df.withColumn(\n",
    "    'CALC_block_isnew',\n",
    "    coalesce(\n",
    "        (df['unix_time_diff'] >= stage_gap_min * 60).cast('integer'),\n",
    "        lit(0)\n",
    "    )\n",
    ")\n",
    "\n",
    "# Sequence number of activity block per athlete and activity \n",
    "df = df.withColumn(\n",
    "    'CALC_block_seqnum', \n",
    "    sum('CALC_block_isnew').over(window)\n",
    ")\n",
    "\n",
    "# Activity block id \"<athlete>_<activity_type>_<integer>\"\n",
    "df = df.withColumn(\n",
    "    'CALC_block_id',\n",
    "    concat(\n",
    "        df['athlete'],\n",
    "        lit('_'),\n",
    "        lower(df['activity_type']),\n",
    "        lit('_'),\n",
    "        df['CALC_block_seqnum'].cast('string')\n",
    "    )\n",
    ")"
   ]
  },
  {
   "cell_type": "markdown",
   "metadata": {},
   "source": [
    "## Flatten DataFrame"
   ]
  },
  {
   "cell_type": "code",
   "execution_count": null,
   "metadata": {
    "collapsed": false
   },
   "outputs": [],
   "source": [
    "dff = df.select( \n",
    "    df['@lat'].alias('lat'), \n",
    "    df['@lon'].alias('long'), \n",
    "    df['ele'].alias('ele'), \n",
    "    df['extensions.gpxtpx:TrackPointExtension.gpxtpx:atemp'].alias('atemp'), \n",
    "    df['extensions.gpxtpx:TrackPointExtension.gpxtpx:cad'].alias('cad'), \n",
    "    df['extensions.gpxtpx:TrackPointExtension.gpxtpx:hr'].alias('hr'), \n",
    "    df['time'].alias('time'), \n",
    "    df['unix_time'].alias('time_seconds'),\n",
    "    df['athlete'].alias('athlete'), \n",
    "    df['activity_type'].alias('activity_type'),\n",
    "    df['CALC_block_id'].alias('block_id')\n",
    ")"
   ]
  },
  {
   "cell_type": "markdown",
   "metadata": {},
   "source": [
    "# Output"
   ]
  },
  {
   "cell_type": "code",
   "execution_count": null,
   "metadata": {
    "collapsed": false
   },
   "outputs": [],
   "source": [
    "dfa = dff.groupBy('block_id').agg(\n",
    "    ((max(dff['time_seconds']) - min(dff['time_seconds']))/60).alias('block_minutes')\n",
    ")\n",
    "\n",
    "pdf = dfa.toPandas()"
   ]
  },
  {
   "cell_type": "code",
   "execution_count": null,
   "metadata": {
    "collapsed": false
   },
   "outputs": [],
   "source": [
    "pdf.hist();"
   ]
  }
 ],
 "metadata": {
  "kernelspec": {
   "display_name": "Python 2",
   "language": "python",
   "name": "python2"
  }
 },
 "nbformat": 4,
 "nbformat_minor": 0
}
