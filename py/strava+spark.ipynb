{
 "cells": [
  {
   "cell_type": "markdown",
   "metadata": {},
   "source": [
    "# Set up"
   ]
  },
  {
   "cell_type": "code",
   "execution_count": null,
   "metadata": {
    "collapsed": false
   },
   "outputs": [],
   "source": [
    "import pandas as pd\n",
    "from pyspark.sql import Window\n",
    "from pyspark.sql.functions import coalesce, concat, lag, lit, lower, sum, unix_timestamp, max, min, \\\n",
    "                                  sin, cos, atan, sqrt, atan2, toRadians, round\n",
    "\n",
    "from classes import StravaLoader\n",
    "\n",
    "%matplotlib inline\n",
    "from matplotlib import pyplot as plt\n",
    "from IPython.core.pylabtools import figsize"
   ]
  },
  {
   "cell_type": "markdown",
   "metadata": {},
   "source": [
    "# Load data"
   ]
  },
  {
   "cell_type": "code",
   "execution_count": null,
   "metadata": {
    "collapsed": false
   },
   "outputs": [],
   "source": [
    "# Initialize Strava activity loader\n",
    "sl = StravaLoader('s3', 'strava-activities-subset', sc=sc, hiveContext=sqlContext)\n",
    "\n",
    "# Load the dataset\n",
    "df = sl.get_dataset()"
   ]
  },
  {
   "cell_type": "markdown",
   "metadata": {},
   "source": [
    "# Analysis\n",
    "### Parameters"
   ]
  },
  {
   "cell_type": "code",
   "execution_count": null,
   "metadata": {
    "collapsed": false
   },
   "outputs": [],
   "source": [
    "stage_gap_min = 10\n",
    "speed_lower_lim = {\n",
    "    'Ride': 3\n",
    "}"
   ]
  },
  {
   "cell_type": "markdown",
   "metadata": {},
   "source": [
    "## Calculate additional columns"
   ]
  },
  {
   "cell_type": "code",
   "execution_count": null,
   "metadata": {
    "collapsed": true
   },
   "outputs": [],
   "source": [
    "def calculate_speed(df):\n",
    "\n",
    "    # Latitude and longditude in radians\n",
    "    df = df.withColumn(\n",
    "        '@latR',\n",
    "        toRadians(df['@lat'])\n",
    "    )\n",
    "    df = df.withColumn(\n",
    "        '@lonR',\n",
    "        toRadians(df['@lon'])\n",
    "    )\n",
    "    \n",
    "    # Latitude and longditude in previous tracking point\n",
    "    df = df.withColumn(\n",
    "        '@latR_prev',\n",
    "        lag('@latR', count=1).over(window)\n",
    "    )\n",
    "    df = df.withColumn(\n",
    "        '@lonR_prev',\n",
    "        lag('@lonR', count=1).over(window)\n",
    "    )\n",
    "    \n",
    "    # Difference in latitude and longditude since previous tracking point\n",
    "    df = df.withColumn(\n",
    "        '@latR_diff',\n",
    "        coalesce(df['@latR'] - df['@latR_prev'], lit(0))\n",
    "    )\n",
    "    df = df.withColumn(\n",
    "        '@lonR_diff',\n",
    "        coalesce(df['@lonR'] - df['@lonR_prev'], lit(0))\n",
    "    )\n",
    "\n",
    "    # Havesine distance calculation between two tracking points\n",
    "    df = df.withColumn(\n",
    "        'a',\n",
    "        sin(df['@latR_diff']/2) * sin(df['@latR_diff']/2)\n",
    "        + cos(df['@latR']) * cos(df['@latR_prev'])\n",
    "        * sin(df['@lonR_diff']/2) * sin(df['@lonR_diff']/2)\n",
    "    )\n",
    "    df = df.withColumn(\n",
    "        'c',\n",
    "        2 * atan2(sqrt(df['a']), sqrt(1 - df['a']))\n",
    "    )\n",
    "    df = df.withColumn(\n",
    "        'dist_diff',\n",
    "        coalesce(R * df['c'], lit(0))\n",
    "    )\n",
    "    \n",
    "    # Momentary speed in km/h\n",
    "    df = df.withColumn(\n",
    "        'speed_kmh',\n",
    "        coalesce(\n",
    "            3.6 * df['dist_diff'] / (df['unix_time'] - lag('unix_time', count=1).over(window)),\n",
    "            lit(0)\n",
    "        )\n",
    "    )\n",
    "    \n",
    "    return df"
   ]
  },
  {
   "cell_type": "code",
   "execution_count": null,
   "metadata": {
    "collapsed": false
   },
   "outputs": [],
   "source": [
    "R = 6371000 # Earth radius\n",
    "\n",
    "# Partitioning on <athlete> and <activity_type>\n",
    "window = Window.partitionBy('athlete', 'activity_type').orderBy('unix_time')\n",
    "\n",
    "# Timestamp in seconds\n",
    "df = df.withColumn( \n",
    "    'unix_time', \n",
    "    unix_timestamp(df['time'], \"yyyy-MM-dd'T'HH:mm:ss'Z'\")\n",
    ")\n",
    "\n",
    "df = calculate_speed(df)"
   ]
  },
  {
   "cell_type": "markdown",
   "metadata": {},
   "source": [
    "### Filter tracking points\n",
    "* From cycling when speed <= 3 km/h"
   ]
  },
  {
   "cell_type": "code",
   "execution_count": null,
   "metadata": {
    "collapsed": false
   },
   "outputs": [],
   "source": [
    "df = df.filter((df['activity_type']=='Ride') & (df['speed_kmh']>speed_lower_lim['Ride']))\n",
    "\n",
    "df = calculate_speed(df)"
   ]
  },
  {
   "cell_type": "markdown",
   "metadata": {},
   "source": [
    "### Calculate more additional columns"
   ]
  },
  {
   "cell_type": "code",
   "execution_count": null,
   "metadata": {
    "collapsed": true
   },
   "outputs": [],
   "source": [
    "# Time difference in seconds between tracking point and previous tracking point\n",
    "df = df.withColumn(\n",
    "    'unix_time_diff',\n",
    "    df['unix_time'] - lag('unix_time', count=1).over(window)\n",
    ")\n",
    "\n",
    "# Indicator (0,1) of whether time difference is greater than threshold (new activity block)\n",
    "df = df.withColumn(\n",
    "    'CALC_block_isnew',\n",
    "    coalesce(\n",
    "        (df['unix_time_diff'] >= stage_gap_min * 60).cast('integer'),\n",
    "        lit(0)\n",
    "    )\n",
    ")\n",
    "\n",
    "# Sequence number of activity block per athlete and activity \n",
    "df = df.withColumn(\n",
    "    'CALC_block_seqnum', \n",
    "    sum('CALC_block_isnew').over(window)\n",
    ")\n",
    "\n",
    "# Activity block id \"<athlete>_<activity_type>_<integer>\"\n",
    "df = df.withColumn(\n",
    "    'CALC_block_id',\n",
    "    concat(\n",
    "        df['athlete'],\n",
    "        lit('_'),\n",
    "        lower(df['activity_type']),\n",
    "        lit('_'),\n",
    "        df['CALC_block_seqnum'].cast('string')\n",
    "    )\n",
    ")"
   ]
  },
  {
   "cell_type": "markdown",
   "metadata": {},
   "source": [
    "### Calculate block specific columns"
   ]
  },
  {
   "cell_type": "code",
   "execution_count": null,
   "metadata": {
    "collapsed": false
   },
   "outputs": [],
   "source": [
    "window_block = Window.partitionBy('CALC_block_id').orderBy('unix_time')\n",
    "\n",
    "df = df.withColumn(\n",
    "    'dist_cum_km',\n",
    "    sum('dist_diff').over(window_block) / 1000\n",
    ")"
   ]
  },
  {
   "cell_type": "markdown",
   "metadata": {},
   "source": [
    "## Flatten DataFrame"
   ]
  },
  {
   "cell_type": "code",
   "execution_count": null,
   "metadata": {
    "collapsed": false
   },
   "outputs": [],
   "source": [
    "dff = df.select( \n",
    "    df['@lat'].alias('lat'), \n",
    "    df['@lon'].alias('lon'), \n",
    "    df['ele'].alias('ele'), \n",
    "    df['extensions.gpxtpx:TrackPointExtension.gpxtpx:atemp'].alias('atemp'), \n",
    "    df['extensions.gpxtpx:TrackPointExtension.gpxtpx:cad'].alias('cad'), \n",
    "    df['extensions.gpxtpx:TrackPointExtension.gpxtpx:hr'].alias('hr'), \n",
    "    df['time'].alias('time'), \n",
    "    df['unix_time'].alias('time_seconds'),\n",
    "    df['athlete'].alias('athlete'), \n",
    "    df['activity_type'].alias('activity_type'),\n",
    "    df['CALC_block_id'].alias('block_id'),\n",
    "    df['speed_kmh'],\n",
    "    df['dist_diff'],\n",
    "    df['dist_cum_km']\n",
    ")"
   ]
  },
  {
   "cell_type": "markdown",
   "metadata": {},
   "source": [
    "# Output"
   ]
  },
  {
   "cell_type": "code",
   "execution_count": null,
   "metadata": {
    "collapsed": false
   },
   "outputs": [],
   "source": [
    "sp = dff.filter('activity_type=\"Ride\"').select(round(dff['speed_kmh']).alias('speed_int')).groupBy('speed_int').count().filter('speed_int<80').toPandas()\n",
    "plt.bar(sp['speed_int'], sp['count'])"
   ]
  },
  {
   "cell_type": "code",
   "execution_count": null,
   "metadata": {
    "collapsed": false
   },
   "outputs": [],
   "source": [
    "dfa = dff.groupBy('block_id').agg(\n",
    "    min(dff['time']),\n",
    "    ((max(dff['time_seconds']) - min(dff['time_seconds']))/60).alias('block_minutes'),\n",
    "    max(dff['dist_cum_km']).alias('block_dist')\n",
    ")\n",
    "\n",
    "dfa = dfa.withColumn(\n",
    "    'avg_speed',\n",
    "    dfa['block_dist'] / (dfa['block_minutes'] / 60)\n",
    ")\n",
    "\n",
    "pdf = dfa.toPandas()\n",
    "\n",
    "pdf"
   ]
  },
  {
   "cell_type": "code",
   "execution_count": null,
   "metadata": {
    "collapsed": false
   },
   "outputs": [],
   "source": [
    "dff.filter('block_id=\"akrogvig_ride_1\"').select([\n",
    "        'athlete',\n",
    "        'activity_type',\n",
    "        'time',\n",
    "        'dist_diff',\n",
    "        'dist_cum_km',\n",
    "        'speed_kmh'\n",
    "    ]).orderBy('time_seconds', ascending=False).show(1000)"
   ]
  },
  {
   "cell_type": "code",
   "execution_count": null,
   "metadata": {
    "collapsed": false
   },
   "outputs": [],
   "source": [
    "dff.filter('block_id=\"akrogvig_ride_1\"').select([\n",
    "        ''\n",
    "        'speed_kmh'\n",
    "    ]).orderBy('time_seconds', ascending=True).toPandas().plot(figsize=(15,5))"
   ]
  },
  {
   "cell_type": "code",
   "execution_count": null,
   "metadata": {
    "collapsed": true
   },
   "outputs": [],
   "source": []
  }
 ],
 "metadata": {
  "kernelspec": {
   "display_name": "Python 2",
   "language": "python",
   "name": "python2"
  },
  "language_info": {
   "codemirror_mode": {
    "name": "ipython",
    "version": 2
   },
   "file_extension": ".py",
   "mimetype": "text/x-python",
   "name": "python",
   "nbconvert_exporter": "python",
   "pygments_lexer": "ipython2",
   "version": "2.7.10"
  }
 },
 "nbformat": 4,
 "nbformat_minor": 0
}
