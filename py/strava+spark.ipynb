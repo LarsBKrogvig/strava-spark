{
 "cells": [
  {
   "cell_type": "markdown",
   "metadata": {},
   "source": [
    "# Set up"
   ]
  },
  {
   "cell_type": "code",
   "execution_count": 12,
   "metadata": {
    "collapsed": false
   },
   "outputs": [],
   "source": [
    "import pandas as pd\n",
    "from pyspark.sql import Window\n",
    "from pyspark.sql.functions import coalesce, concat, lag, lit, lower, sum, unix_timestamp, max, min, \\\n",
    "                                  sin, cos, atan, sqrt, atan2, toRadians, round\n",
    "\n",
    "from classes import StravaLoader\n",
    "\n",
    "%matplotlib inline\n",
    "from matplotlib import pyplot as plt\n",
    "from IPython.core.pylabtools import figsize"
   ]
  },
  {
   "cell_type": "markdown",
   "metadata": {},
   "source": [
    "# Load data"
   ]
  },
  {
   "cell_type": "code",
   "execution_count": 13,
   "metadata": {
    "collapsed": false
   },
   "outputs": [
    {
     "name": "stdout",
     "output_type": "stream",
     "text": [
      "Info: Using supplied SparkContext and HiveContext\n",
      "Warning: Automatic directory/athlete detection not yet supported for data source s3. Using: \"akrogvig\", \"lkrogvig\", \"brustad\"\n"
     ]
    }
   ],
   "source": [
    "# Initialize Strava activity loader\n",
    "sl = StravaLoader('s3', 'strava-activities', sc=sc, hiveContext=sqlContext)\n",
    "\n",
    "# Load the dataset\n",
    "df = sl.get_dataset()"
   ]
  },
  {
   "cell_type": "markdown",
   "metadata": {},
   "source": [
    "# Analysis\n",
    "### Parameters"
   ]
  },
  {
   "cell_type": "code",
   "execution_count": 14,
   "metadata": {
    "collapsed": false
   },
   "outputs": [],
   "source": [
    "stage_gap_min = 10"
   ]
  },
  {
   "cell_type": "markdown",
   "metadata": {},
   "source": [
    "## Calculate additional columns"
   ]
  },
  {
   "cell_type": "code",
   "execution_count": 15,
   "metadata": {
    "collapsed": false
   },
   "outputs": [],
   "source": [
    "# Partitioning on <athlete> and <activity_type>\n",
    "window = Window.partitionBy('athlete', 'activity_type').orderBy('unix_time')\n",
    "\n",
    "# Timestamp in seconds\n",
    "df = df.withColumn( \n",
    "    'unix_time', \n",
    "    unix_timestamp(df['time'], \"yyyy-MM-dd'T'HH:mm:ss'Z'\")\n",
    ") \n",
    "\n",
    "# Time difference in seconds between tracking point and previous tracking point\n",
    "df = df.withColumn(\n",
    "    'unix_time_diff',\n",
    "    df['unix_time'] - lag('unix_time', count=1).over(window)\n",
    ")\n",
    "\n",
    "# Indicator (0,1) of whether time difference is greater than threshold (new activity block)\n",
    "df = df.withColumn(\n",
    "    'CALC_block_isnew',\n",
    "    coalesce(\n",
    "        (df['unix_time_diff'] >= stage_gap_min * 60).cast('integer'),\n",
    "        lit(0)\n",
    "    )\n",
    ")\n",
    "\n",
    "# Sequence number of activity block per athlete and activity \n",
    "df = df.withColumn(\n",
    "    'CALC_block_seqnum', \n",
    "    sum('CALC_block_isnew').over(window)\n",
    ")\n",
    "\n",
    "# Activity block id \"<athlete>_<activity_type>_<integer>\"\n",
    "df = df.withColumn(\n",
    "    'CALC_block_id',\n",
    "    concat(\n",
    "        df['athlete'],\n",
    "        lit('_'),\n",
    "        lower(df['activity_type']),\n",
    "        lit('_'),\n",
    "        df['CALC_block_seqnum'].cast('string')\n",
    "    )\n",
    ")"
   ]
  },
  {
   "cell_type": "markdown",
   "metadata": {},
   "source": [
    "## Flatten DataFrame"
   ]
  },
  {
   "cell_type": "code",
   "execution_count": 16,
   "metadata": {
    "collapsed": false
   },
   "outputs": [],
   "source": [
    "dff = df.select( \n",
    "    df['@lat'].alias('lat'), \n",
    "    df['@lon'].alias('lon'), \n",
    "    df['ele'].alias('ele'), \n",
    "    df['extensions.gpxtpx:TrackPointExtension.gpxtpx:atemp'].alias('atemp'), \n",
    "    df['extensions.gpxtpx:TrackPointExtension.gpxtpx:cad'].alias('cad'), \n",
    "    df['extensions.gpxtpx:TrackPointExtension.gpxtpx:hr'].alias('hr'), \n",
    "    df['time'].alias('time'), \n",
    "    df['unix_time'].alias('time_seconds'),\n",
    "    df['athlete'].alias('athlete'), \n",
    "    df['activity_type'].alias('activity_type'),\n",
    "    df['CALC_block_id'].alias('block_id')\n",
    ")"
   ]
  },
  {
   "cell_type": "markdown",
   "metadata": {},
   "source": [
    "# Output"
   ]
  },
  {
   "cell_type": "code",
   "execution_count": 17,
   "metadata": {
    "collapsed": false
   },
   "outputs": [],
   "source": [
    "R = 6371000 # Earth radius\n",
    "window2 = Window.partitionBy('block_id').orderBy('time_seconds')\n",
    "\n",
    "dffr = dff\n",
    "\n",
    "dffr = dffr.withColumn(\n",
    "    'latR',\n",
    "    toRadians(dffr['lat'])\n",
    ")\n",
    "\n",
    "dffr = dffr.withColumn(\n",
    "    'lonR',\n",
    "    toRadians(dffr['lon'])\n",
    ")\n",
    "\n",
    "dffr = dffr.withColumn(\n",
    "    'latR_prev',\n",
    "    lag('latR', count=1).over(window2)\n",
    ")\n",
    "\n",
    "dffr = dffr.withColumn(\n",
    "    'lonR_prev',\n",
    "    lag('lonR', count=1).over(window2)\n",
    ")\n",
    "\n",
    "dffr = dffr.withColumn(\n",
    "    'latR_diff',\n",
    "    coalesce(dffr['latR'] - dffr['latR_prev'], lit(0))\n",
    ")\n",
    "\n",
    "dffr = dffr.withColumn(\n",
    "    'lonR_diff',\n",
    "    coalesce(dffr['lonR'] - dffr['lonR_prev'], lit(0))\n",
    ")\n",
    "\n",
    "dffr = dffr.withColumn(\n",
    "    'a',\n",
    "    sin(dffr['latR_diff']/2) * sin(dffr['latR_diff']/2)\n",
    "    + cos(dffr['latR']) * cos(dffr['latR_prev'])\n",
    "    * sin(dffr['lonR_diff']/2) * sin(dffr['lonR_diff']/2)\n",
    ")\n",
    "\n",
    "dffr = dffr.withColumn(\n",
    "    'c',\n",
    "    2 * atan2(sqrt(dffr['a']), sqrt(1 - dffr['a']))\n",
    ")\n",
    "\n",
    "dffr = dffr.withColumn(\n",
    "    'dist_diff',\n",
    "    coalesce(R * dffr['c'], lit(0))\n",
    ")\n",
    "\n",
    "dffr = dffr.withColumn(\n",
    "    'dist_cum_km',\n",
    "    sum('dist_diff').over(window2) / 1000\n",
    ")\n",
    "\n",
    "dffr = dffr.withColumn(\n",
    "    'speed_kmh',\n",
    "    coalesce(\n",
    "        3.6 * dffr['dist_diff'] / (dffr['time_seconds'] - lag('time_seconds', count=1).over(window2)),\n",
    "        lit(0)\n",
    "    )\n",
    ")\n",
    "\n",
    "#dffr.select(\n",
    "#    dffr['block_id'],\n",
    "#    dffr['time'],\n",
    "#    dffr['latR'],\n",
    "#    dffr['lonR'],\n",
    "#    dffr['dist_diff'],\n",
    "#    dffr['dist_cum_km'],\n",
    "#    dffr['speed_kmh']\n",
    "#).orderBy(['athlete', 'activity_type', 'time_seconds']).show()"
   ]
  },
  {
   "cell_type": "code",
   "execution_count": 18,
   "metadata": {
    "collapsed": false
   },
   "outputs": [
    {
     "data": {
      "text/plain": [
       "<Container object of 80 artists>"
      ]
     },
     "execution_count": 18,
     "metadata": {},
     "output_type": "execute_result"
    },
    {
     "data": {
      "image/png": "[encoded data removed]",
      "text/plain": [
       "<matplotlib.figure.Figure at 0x7f9453f34a10>"
      ]
     },
     "metadata": {},
     "output_type": "display_data"
    }
   ],
   "source": [
    "sp = dffr.filter('activity_type=\"Ride\"').select(round(dffr['speed_kmh']).alias('speed_int')).groupBy('speed_int').count().filter('speed_int<80').toPandas()\n",
    "plt.bar(sp['speed_int'], sp['count'])"
   ]
  },
  {
   "cell_type": "code",
   "execution_count": 66,
   "metadata": {
    "collapsed": false
   },
   "outputs": [],
   "source": [
    "dfa = dffr.groupBy('block_id').agg(\n",
    "    ((max(dffr['time_seconds']) - min(dffr['time_seconds']))/60).alias('block_minutes'),\n",
    "    max(dffr['dist_cum_km']).alias('block_dist')\n",
    ")\n",
    "\n",
    "dfa = dfa.withColumn(\n",
    "    'avg_speed',\n",
    "    dfa['block_dist'] / (dfa['block_minutes'] / 60)\n",
    ")\n",
    "\n",
    "pdf = dfa.toPandas()\n",
    "\n",
    "pdf"
   ]
  },
  {
   "cell_type": "code",
   "execution_count": null,
   "metadata": {
    "collapsed": true
   },
   "outputs": [],
   "source": []
  }
 ],
 "metadata": {
  "kernelspec": {
   "display_name": "Python 2",
   "language": "python",
   "name": "python2"
  },
  "language_info": {
   "codemirror_mode": {
    "name": "ipython",
    "version": 2
   },
   "file_extension": ".py",
   "mimetype": "text/x-python",
   "name": "python",
   "nbconvert_exporter": "python",
   "pygments_lexer": "ipython2",
   "version": "2.7.10"
  }
 },
 "nbformat": 4,
 "nbformat_minor": 0
}
