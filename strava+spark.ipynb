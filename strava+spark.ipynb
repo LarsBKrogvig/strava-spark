{
 "cells": [
  {
   "cell_type": "markdown",
   "metadata": {},
   "source": [
    "# Set up"
   ]
  },
  {
   "cell_type": "code",
   "execution_count": null,
   "metadata": {
    "collapsed": false
   },
   "outputs": [],
   "source": [
    "from pyspark.sql import Window\n",
    "from pyspark.sql.functions import lag, unix_timestamp\n",
    "\n",
    "from classes import StravaLoader"
   ]
  },
  {
   "cell_type": "markdown",
   "metadata": {},
   "source": [
    "# Load data"
   ]
  },
  {
   "cell_type": "code",
   "execution_count": null,
   "metadata": {
    "collapsed": false
   },
   "outputs": [],
   "source": [
    "# Initialize Strava activity loader\n",
    "sl = StravaLoader('local', 'strava-activities', sc=sc, hiveContext=sqlContext)\n",
    "\n",
    "# Load the dataset\n",
    "df = sl.get_dataset()"
   ]
  },
  {
   "cell_type": "code",
   "execution_count": null,
   "metadata": {
    "collapsed": false
   },
   "outputs": [],
   "source": [
    "df.groupBy(['athlete', 'activity_type']).count().show()"
   ]
  },
  {
   "cell_type": "markdown",
   "metadata": {},
   "source": [
    "# Analysis"
   ]
  },
  {
   "cell_type": "code",
   "execution_count": null,
   "metadata": {
    "collapsed": false
   },
   "outputs": [],
   "source": [
    "# Convert timestamp to seconds\n",
    "df = df.withColumn('unix_time', unix_timestamp(df['time'], \"yyyy-MM-dd'T'HH:mm:ss'Z'\"))\n",
    "\n",
    "# Window for time difference\n",
    "window = Window.partitionBy('athlete', 'activity_type').orderBy('unix_time')\n",
    "df = df.withColumn('unix_time_prev', lag('unix_time', count=1).over(window))\n",
    "df = df.withColumn('unix_time_diff', df['unix_time'] - df['unix_time_prev'])"
   ]
  },
  {
   "cell_type": "code",
   "execution_count": null,
   "metadata": {
    "collapsed": false
   },
   "outputs": [],
   "source": [
    "# Select prev time and alias fields\n",
    "dff = df.select( \n",
    "    df['@lat'].alias('lat'), \n",
    "    df['@lon'].alias('long'), \n",
    "    df['ele'].alias('ele'), \n",
    "    df['extensions.gpxtpx:TrackPointExtension.gpxtpx:atemp'].alias('atemp'), \n",
    "    df['extensions.gpxtpx:TrackPointExtension.gpxtpx:cad'].alias('cad'), \n",
    "    df['extensions.gpxtpx:TrackPointExtension.gpxtpx:hr'].alias('hr'), \n",
    "    df['time'].alias('time'), \n",
    "    df['unix_time'].alias('unix_time'), \n",
    "    df['unix_time_diff'].alias('unix_time_diff'), \n",
    "    df['athlete'].alias('athlete'), \n",
    "    df['activity_type'].alias('activity_type') \n",
    ")\n",
    "\n",
    "dff.show()"
   ]
  },
  {
   "cell_type": "code",
   "execution_count": null,
   "metadata": {
    "collapsed": true
   },
   "outputs": [],
   "source": [
    "#df.orderBy('unix_time_diff', ascending=False).withColumn('hrs', df['unix_time_diff']/(60*60)).show()"
   ]
  }
 ],
 "metadata": {
  "kernelspec": {
   "display_name": "Python 2",
   "language": "python",
   "name": "python2"
  },
  "language_info": {
   "codemirror_mode": {
    "name": "ipython",
    "version": 2
   },
   "file_extension": ".py",
   "mimetype": "text/x-python",
   "name": "python",
   "nbconvert_exporter": "python",
   "pygments_lexer": "ipython2",
   "version": "2.7.11"
  }
 },
 "nbformat": 4,
 "nbformat_minor": 0
}
